{
 "cells": [
  {
   "cell_type": "code",
   "execution_count": 1,
   "metadata": {},
   "outputs": [
    {
     "name": "stdout",
     "output_type": "stream",
     "text": [
      "Requirement already satisfied: pandas in /Users/oysterable/anaconda3/lib/python3.8/site-packages (1.2.4)\n",
      "Requirement already satisfied: pandas-ta in /Users/oysterable/anaconda3/lib/python3.8/site-packages (0.3.14b0)\n",
      "Requirement already satisfied: python-dateutil>=2.7.3 in /Users/oysterable/anaconda3/lib/python3.8/site-packages (from pandas) (2.8.1)\n",
      "Requirement already satisfied: pytz>=2017.3 in /Users/oysterable/anaconda3/lib/python3.8/site-packages (from pandas) (2021.1)\n",
      "Requirement already satisfied: numpy>=1.16.5 in /Users/oysterable/anaconda3/lib/python3.8/site-packages (from pandas) (1.22.2)\n",
      "Requirement already satisfied: six>=1.5 in /Users/oysterable/anaconda3/lib/python3.8/site-packages (from python-dateutil>=2.7.3->pandas) (1.15.0)\n",
      "\u001b[33mDEPRECATION: pyodbc 4.0.0-unsupported has a non-standard version number. pip 24.1 will enforce this behaviour change. A possible replacement is to upgrade to a newer version of pyodbc or contact the author to suggest that they release a version with a conforming version number. Discussion can be found at https://github.com/pypa/pip/issues/12063\u001b[0m\u001b[33m\n",
      "\u001b[0mRequirement already satisfied: matplotlib in /Users/oysterable/anaconda3/lib/python3.8/site-packages (3.3.4)\n",
      "\u001b[31mERROR: Could not find a version that satisfies the requirement math (from versions: none)\u001b[0m\u001b[31m\n",
      "\u001b[0m\u001b[31mERROR: No matching distribution found for math\u001b[0m\u001b[31m\n",
      "\u001b[0mRequirement already satisfied: termcolor in /Users/oysterable/anaconda3/lib/python3.8/site-packages (2.4.0)\n",
      "\u001b[33mDEPRECATION: pyodbc 4.0.0-unsupported has a non-standard version number. pip 24.1 will enforce this behaviour change. A possible replacement is to upgrade to a newer version of pyodbc or contact the author to suggest that they release a version with a conforming version number. Discussion can be found at https://github.com/pypa/pip/issues/12063\u001b[0m\u001b[33m\n",
      "\u001b[0mRequirement already satisfied: benzinga in /Users/oysterable/anaconda3/lib/python3.8/site-packages (1.21)\n",
      "Requirement already satisfied: requests in /Users/oysterable/anaconda3/lib/python3.8/site-packages (from benzinga) (2.25.1)\n",
      "Requirement already satisfied: structlog in /Users/oysterable/anaconda3/lib/python3.8/site-packages (from benzinga) (24.1.0)\n",
      "Requirement already satisfied: urllib3==1.25.10 in /Users/oysterable/anaconda3/lib/python3.8/site-packages (from benzinga) (1.25.10)\n",
      "Requirement already satisfied: chardet<5,>=3.0.2 in /Users/oysterable/anaconda3/lib/python3.8/site-packages (from requests->benzinga) (4.0.0)\n",
      "Requirement already satisfied: idna<3,>=2.5 in /Users/oysterable/anaconda3/lib/python3.8/site-packages (from requests->benzinga) (2.10)\n",
      "Requirement already satisfied: certifi>=2017.4.17 in /Users/oysterable/anaconda3/lib/python3.8/site-packages (from requests->benzinga) (2020.12.5)\n",
      "\u001b[33mDEPRECATION: pyodbc 4.0.0-unsupported has a non-standard version number. pip 24.1 will enforce this behaviour change. A possible replacement is to upgrade to a newer version of pyodbc or contact the author to suggest that they release a version with a conforming version number. Discussion can be found at https://github.com/pypa/pip/issues/12063\u001b[0m\u001b[33m\n",
      "\u001b[0m"
     ]
    }
   ],
   "source": [
    "#Install dependencies\n",
    "! pip install pandas pandas-ta\n",
    "! pip install matplotlib math\n",
    "! pip install termcolor\n",
    "! pip install benzinga\n"
   ]
  },
  {
   "cell_type": "code",
   "execution_count": 2,
   "metadata": {},
   "outputs": [],
   "source": [
    "# IMPORTING PACKAGES\n",
    "\n",
    "import pandas as pd\n",
    "import requests\n",
    "import pandas_ta as ta\n",
    "import matplotlib.pyplot as plt\n",
    "from termcolor import colored as cl\n",
    "import math \n",
    "from benzinga import financial_data\n",
    "\n",
    "#https://levelup.gitconnected.com/an-algo-trading-strategy-which-made-8-371-a-python-case-study-58ed12a492dc\n",
    "\n",
    "# https://www.benzinga.com/apis/licensing/user/api-keys\n",
    "BENZINGA_API_KEY = \"*********\"\n",
    "\n",
    "plt.rcParams['figure.figsize'] = (20,10)\n",
    "plt.style.use('fivethirtyeight')"
   ]
  },
  {
   "cell_type": "markdown",
   "metadata": {},
   "source": [
    "### Extracting Historical Data"
   ]
  },
  {
   "cell_type": "code",
   "execution_count": null,
   "metadata": {},
   "outputs": [],
   "source": [
    "# EXTRACTING HISTORICAL DATA\n",
    "\n",
    "def get_historical_data(symbol, start_date, interval):\n",
    "    \n",
    "    url = \"https://api.benzinga.com/api/v2/bars\"\n",
    "\n",
    "    querystring = {\"token\":BENZINGA_API_KEY,\n",
    "                   \"symbols\":f\"{symbol}\",\n",
    "                   \"from\":f\"{start_date}\",\n",
    "                   \"interval\":f\"{interval}\"}\n",
    "\n",
    "\n",
    "    # querystring = {\"token\":\"BENZINGA_API_KEY\",\n",
    "    #             \"symbols\":\"TSLA\",\n",
    "    #             \"from\":\"1993-01-01\",\n",
    "    #             \"to\":\"2024-01-01\",\n",
    "    #             \"interval\":\"1W\"}\n",
    "\n",
    "    headers = {\"accept\": \"application/json\"}\n",
    "\n",
    "    response = requests.get(url, headers=headers, params = querystring)\n",
    "    hist_json = response.json()\n",
    "    #hist_json = requests.request(\"GET\", url, headers=headers, params=querystring).json()\n",
    "\n",
    "\n",
    "    # print request object\n",
    "    print(response.url)\n",
    "    \n",
    "    # print status code\n",
    "    print(response.status_code)\n",
    "\n",
    "\n",
    "    res = hist_json[0]['candles']\n",
    "    print(res)\n",
    "\n",
    "    df = pd.DataFrame(hist_json[0]['candles'])\n",
    "    \n",
    "    return df\n",
    "\n",
    "aapl = get_historical_data('AAPL', '1993-01-01', '1W')\n",
    "aapl.tail()"
   ]
  },
  {
   "cell_type": "code",
   "execution_count": null,
   "metadata": {},
   "outputs": [],
   "source": [
    "\n",
    "# fin = financial_data.Benzinga(BENZINGA_API_KEY)\n",
    "# stock_ratings = fin.ratings()\n",
    "# fin.output(stock_ratings)\n"
   ]
  },
  {
   "cell_type": "code",
   "execution_count": null,
   "metadata": {},
   "outputs": [],
   "source": [
    "# CALCULATING DONCHIAN CHANNEL\n",
    "\n",
    "aapl[['dcl', 'dcm', 'dcu']] = aapl.ta.donchian(lower_length = 40, upper_length = 50)\n",
    "aapl = aapl.dropna().drop('time', axis = 1).rename(columns = {'dateTime':'date'})\n",
    "aapl = aapl.set_index('date')\n",
    "aapl.index = pd.to_datetime(aapl.index)\n",
    "\n",
    "aapl.tail()"
   ]
  },
  {
   "cell_type": "code",
   "execution_count": null,
   "metadata": {},
   "outputs": [],
   "source": [
    "# PLOTTING DONCHIAN CHANNEL\n",
    "\n",
    "plt.plot(aapl[-300:].close, label = 'CLOSE')\n",
    "plt.plot(aapl[-300:].dcl, color = 'black', linestyle = '--', alpha = 0.3)\n",
    "plt.plot(aapl[-300:].dcm, color = 'orange', label = 'DCM')\n",
    "plt.plot(aapl[-300:].dcu, color = 'black', linestyle = '--', alpha = 0.3, label = 'DCU,DCL')\n",
    "plt.legend()\n",
    "plt.title('AAPL DONCHIAN CHANNELS 50')\n",
    "plt.xlabel('Date')\n",
    "plt.ylabel('Close')"
   ]
  },
  {
   "cell_type": "code",
   "execution_count": null,
   "metadata": {},
   "outputs": [],
   "source": [
    "# BACKTESTING THE STRATEGY\n",
    "\n",
    "def implement_strategy(aapl, investment):\n",
    "    \n",
    "    in_position = False\n",
    "    equity = investment\n",
    "    \n",
    "    for i in range(3, len(aapl)):\n",
    "        if aapl['high'][i] == aapl['dcu'][i] and in_position == False:\n",
    "            no_of_shares = math.floor(equity/aapl.close[i])\n",
    "            equity -= (no_of_shares * aapl.close[i])\n",
    "            in_position = True\n",
    "            print(cl('BUY: ', color = 'green', attrs = ['bold']), f'{no_of_shares} Shares are bought at ${aapl.close[i]} on {str(aapl.index[i])[:10]}')\n",
    "        elif aapl['low'][i] == aapl['dcl'][i] and in_position == True:\n",
    "            equity += (no_of_shares * aapl.close[i])\n",
    "            in_position = False\n",
    "            print(cl('SELL: ', color = 'red', attrs = ['bold']), f'{no_of_shares} Shares are bought at ${aapl.close[i]} on {str(aapl.index[i])[:10]}')\n",
    "    if in_position == True:\n",
    "        equity += (no_of_shares * aapl.close[i])\n",
    "        print(cl(f'\\nClosing position at {aapl.close[i]} on {str(aapl.index[i])[:10]}', attrs = ['bold']))\n",
    "        in_position = False\n",
    "\n",
    "    earning = round(equity - investment, 2)\n",
    "    roi = round(earning / investment * 100, 2)\n",
    "    print(cl(f'EARNING: ${earning} ; ROI: {roi}%', attrs = ['bold']))\n",
    "    \n",
    "implement_strategy(aapl, 100000)"
   ]
  },
  {
   "cell_type": "code",
   "execution_count": null,
   "metadata": {},
   "outputs": [],
   "source": [
    "# SPY ETF Comparison\n",
    "\n",
    "#Buy/hold return\n",
    "\n",
    "spy = get_historical_data('SPY', '1993-01-01', '1W')\n",
    "spy_ret = round(((spy.close.iloc[-1] - spy.close.iloc[0])/spy.close.iloc[0])*100)\n",
    "\n",
    "print(cl('SPY ETF buy/hold return:', attrs = ['bold']), f'{spy_ret}%')"
   ]
  }
 ],
 "metadata": {
  "kernelspec": {
   "display_name": "base",
   "language": "python",
   "name": "python3"
  },
  "language_info": {
   "codemirror_mode": {
    "name": "ipython",
    "version": 3
   },
   "file_extension": ".py",
   "mimetype": "text/x-python",
   "name": "python",
   "nbconvert_exporter": "python",
   "pygments_lexer": "ipython3",
   "version": "3.8.8"
  }
 },
 "nbformat": 4,
 "nbformat_minor": 2
}
